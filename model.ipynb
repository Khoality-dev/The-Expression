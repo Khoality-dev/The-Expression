{
  "cells": [
    {
      "cell_type": "markdown",
      "metadata": {
        "id": "Y76axBV8GQo2"
      },
      "source": [
        "## Import Dependencies"
      ]
    },
    {
      "cell_type": "code",
      "execution_count": null,
      "metadata": {},
      "outputs": [],
      "source": [
        "# List of external libraries used:\n",
        "# pandas: https://pandas.pydata.org\n",
        "# numpy: https://numpy.org\n",
        "# matplotlub: https://matplotlib.org\n",
        "# sklearn: https://scikit-learn.org"
      ]
    },
    {
      "cell_type": "code",
      "execution_count": null,
      "metadata": {
        "colab": {
          "base_uri": "https://localhost:8080/"
        },
        "id": "jhxzzOkz0fyX",
        "outputId": "13729d09-67cc-4075-95f1-4435afc4239a"
      },
      "outputs": [],
      "source": [
        "import pandas as pd\n",
        "import numpy as np\n",
        "import matplotlib.pyplot as plt\n",
        "import json\n",
        "\n",
        "from sklearn.preprocessing import StandardScaler\n",
        "from sklearn.model_selection import KFold\n",
        "from sklearn.metrics import confusion_matrix, ConfusionMatrixDisplay, precision_score, recall_score, accuracy_score, f1_score\n",
        "from sklearn import mixture\n",
        "from sklearn import svm\n",
        "\n",
        "from tensorflow.keras import regularizers, initializers, optimizers, callbacks\n",
        "from tensorflow.keras.preprocessing.sequence import pad_sequences\n",
        "from tensorflow.keras.preprocessing.text import Tokenizer\n",
        "from keras.utils.np_utils import to_categorical\n",
        "from tensorflow.keras.layers import *\n",
        "from tensorflow.keras.models import Model\n",
        "from tensorflow.keras.utils import plot_model"
      ]
    },
    {
      "cell_type": "markdown",
      "metadata": {
        "id": "jTuCSBCUGbx9"
      },
      "source": [
        "# Preprocessing:"
      ]
    },
    {
      "cell_type": "markdown",
      "metadata": {},
      "source": [
        "### Load the dataset"
      ]
    },
    {
      "cell_type": "code",
      "execution_count": 38,
      "metadata": {
        "id": "jKPw96VI09q0"
      },
      "outputs": [
        {
          "data": {
            "text/html": [
              "<div>\n",
              "<style scoped>\n",
              "    .dataframe tbody tr th:only-of-type {\n",
              "        vertical-align: middle;\n",
              "    }\n",
              "\n",
              "    .dataframe tbody tr th {\n",
              "        vertical-align: top;\n",
              "    }\n",
              "\n",
              "    .dataframe thead th {\n",
              "        text-align: right;\n",
              "    }\n",
              "</style>\n",
              "<table border=\"1\" class=\"dataframe\">\n",
              "  <thead>\n",
              "    <tr style=\"text-align: right;\">\n",
              "      <th></th>\n",
              "      <th>frame</th>\n",
              "      <th>arousal</th>\n",
              "      <th>valence</th>\n",
              "      <th>landmarks</th>\n",
              "    </tr>\n",
              "  </thead>\n",
              "  <tbody>\n",
              "    <tr>\n",
              "      <th>0</th>\n",
              "      <td>00000</td>\n",
              "      <td>5.0</td>\n",
              "      <td>0.0</td>\n",
              "      <td>[[181.4181259729673, 170.1050112037773], [181....</td>\n",
              "    </tr>\n",
              "    <tr>\n",
              "      <th>1</th>\n",
              "      <td>00001</td>\n",
              "      <td>5.0</td>\n",
              "      <td>0.0</td>\n",
              "      <td>[[181.3328641571337, 166.90993600707972], [181...</td>\n",
              "    </tr>\n",
              "    <tr>\n",
              "      <th>2</th>\n",
              "      <td>00002</td>\n",
              "      <td>5.0</td>\n",
              "      <td>0.0</td>\n",
              "      <td>[[178.26485481108307, 171.62269560474016], [17...</td>\n",
              "    </tr>\n",
              "    <tr>\n",
              "      <th>3</th>\n",
              "      <td>00003</td>\n",
              "      <td>5.0</td>\n",
              "      <td>0.0</td>\n",
              "      <td>[[175.16685537636192, 171.49960180139846], [17...</td>\n",
              "    </tr>\n",
              "    <tr>\n",
              "      <th>4</th>\n",
              "      <td>00004</td>\n",
              "      <td>5.0</td>\n",
              "      <td>0.0</td>\n",
              "      <td>[[176.2476316924445, 166.90324891245803], [175...</td>\n",
              "    </tr>\n",
              "    <tr>\n",
              "      <th>...</th>\n",
              "      <td>...</td>\n",
              "      <td>...</td>\n",
              "      <td>...</td>\n",
              "      <td>...</td>\n",
              "    </tr>\n",
              "    <tr>\n",
              "      <th>30046</th>\n",
              "      <td>00042</td>\n",
              "      <td>5.0</td>\n",
              "      <td>-1.0</td>\n",
              "      <td>[[328.2910405443453, 191.22887899775674], [333...</td>\n",
              "    </tr>\n",
              "    <tr>\n",
              "      <th>30047</th>\n",
              "      <td>00043</td>\n",
              "      <td>5.0</td>\n",
              "      <td>-1.0</td>\n",
              "      <td>[[327.9702636469936, 184.8430668214334], [328....</td>\n",
              "    </tr>\n",
              "    <tr>\n",
              "      <th>30048</th>\n",
              "      <td>00044</td>\n",
              "      <td>5.0</td>\n",
              "      <td>-1.0</td>\n",
              "      <td>[[329.6582591097338, 186.84070832095395], [331...</td>\n",
              "    </tr>\n",
              "    <tr>\n",
              "      <th>30049</th>\n",
              "      <td>00045</td>\n",
              "      <td>5.0</td>\n",
              "      <td>-1.0</td>\n",
              "      <td>[[335.89389019381457, 186.45180451116119], [33...</td>\n",
              "    </tr>\n",
              "    <tr>\n",
              "      <th>30050</th>\n",
              "      <td>00046</td>\n",
              "      <td>5.0</td>\n",
              "      <td>-1.0</td>\n",
              "      <td>[[333.01370114323544, 183.19846735352053], [32...</td>\n",
              "    </tr>\n",
              "  </tbody>\n",
              "</table>\n",
              "<p>30051 rows × 4 columns</p>\n",
              "</div>"
            ],
            "text/plain": [
              "       frame  arousal  valence  \\\n",
              "0      00000      5.0      0.0   \n",
              "1      00001      5.0      0.0   \n",
              "2      00002      5.0      0.0   \n",
              "3      00003      5.0      0.0   \n",
              "4      00004      5.0      0.0   \n",
              "...      ...      ...      ...   \n",
              "30046  00042      5.0     -1.0   \n",
              "30047  00043      5.0     -1.0   \n",
              "30048  00044      5.0     -1.0   \n",
              "30049  00045      5.0     -1.0   \n",
              "30050  00046      5.0     -1.0   \n",
              "\n",
              "                                               landmarks  \n",
              "0      [[181.4181259729673, 170.1050112037773], [181....  \n",
              "1      [[181.3328641571337, 166.90993600707972], [181...  \n",
              "2      [[178.26485481108307, 171.62269560474016], [17...  \n",
              "3      [[175.16685537636192, 171.49960180139846], [17...  \n",
              "4      [[176.2476316924445, 166.90324891245803], [175...  \n",
              "...                                                  ...  \n",
              "30046  [[328.2910405443453, 191.22887899775674], [333...  \n",
              "30047  [[327.9702636469936, 184.8430668214334], [328....  \n",
              "30048  [[329.6582591097338, 186.84070832095395], [331...  \n",
              "30049  [[335.89389019381457, 186.45180451116119], [33...  \n",
              "30050  [[333.01370114323544, 183.19846735352053], [32...  \n",
              "\n",
              "[30051 rows x 4 columns]"
            ]
          },
          "execution_count": 38,
          "metadata": {},
          "output_type": "execute_result"
        }
      ],
      "source": [
        "dataset = []\n",
        "\n",
        "for i in range(600):\n",
        "    with open(\"data/\" + f\"{i+1:03}\" + \"/\" + f\"{i+1:03}\" + \".json\") as jsonFile:\n",
        "        jsonData = json.load(jsonFile)['frames']\n",
        "        for frame in jsonData:\n",
        "            record = {}\n",
        "\n",
        "            record['frame'] = frame\n",
        "            record['arousal'] = jsonData[frame]['arousal']\n",
        "            record['valence'] = jsonData[frame]['valence']\n",
        "            record['landmarks'] = jsonData[frame]['landmarks']\n",
        "\n",
        "            dataset.append(record)\n",
        "dataset = pd.DataFrame(dataset)\n",
        "dataset"
      ]
    },
    {
      "cell_type": "code",
      "execution_count": null,
      "metadata": {},
      "outputs": [],
      "source": [
        "dataset['arousal']"
      ]
    },
    {
      "cell_type": "markdown",
      "metadata": {},
      "source": [
        "# Haar Cascades/ Landmark detection"
      ]
    },
    {
      "cell_type": "code",
      "execution_count": null,
      "metadata": {},
      "outputs": [],
      "source": []
    }
  ],
  "metadata": {
    "colab": {
      "collapsed_sections": [],
      "name": "Assignment2.ipynb",
      "provenance": []
    },
    "kernelspec": {
      "display_name": "Python 3 (ipykernel)",
      "language": "python",
      "name": "python3"
    },
    "language_info": {
      "codemirror_mode": {
        "name": "ipython",
        "version": 3
      },
      "file_extension": ".py",
      "mimetype": "text/x-python",
      "name": "python",
      "nbconvert_exporter": "python",
      "pygments_lexer": "ipython3",
      "version": "3.8.10"
    }
  },
  "nbformat": 4,
  "nbformat_minor": 0
}
